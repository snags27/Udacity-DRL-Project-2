{
 "cells": [
  {
   "cell_type": "markdown",
   "metadata": {},
   "source": [
    "# Udacity DRL Project 2: Continuous Control\n",
    "\n",
    "---\n",
    "This notebook provides an outline of a solution to meet the task objectives of the Udacity Deep Reinforcement Learning Nanodegree Project 2. The task set was to solve the 'Reacher' Unity Environment which is an environment with a double jointed arm that is rewarded at each timestep that the agent's 'hand' is within the goal location. The environment is considered solved once the average score across 100 episodes is >= 30.\n",
    "\n",
    "For this project I have solved the distributed training (20 identical agents) version of the environment.\n",
    "\n",
    "## 1. Start the Environment\n",
    "\n",
    "We begin by importing the necessary packages."
   ]
  },
  {
   "cell_type": "code",
   "execution_count": 1,
   "metadata": {},
   "outputs": [],
   "source": [
    "from unityagents import UnityEnvironment\n",
    "import numpy as np\n",
    "import matplotlib.pyplot as plt\n",
    "%matplotlib inline"
   ]
  },
  {
   "cell_type": "code",
   "execution_count": 2,
   "metadata": {},
   "outputs": [],
   "source": [
    "%%html\n",
    "<style>\n",
    "    table {\n",
    "        display: inline-block\n",
    "    }\n",
    "</style>"
   ]
  },
  {
   "cell_type": "markdown",
   "metadata": {},
   "source": [
    "Next, we will start the environment, which has 20 identical agents in order to distribute the task of gathering experience."
   ]
  },
  {
   "cell_type": "code",
   "execution_count": 3,
   "metadata": {},
   "outputs": [
    {
     "name": "stderr",
     "output_type": "stream",
     "text": [
      "INFO:unityagents:\n",
      "'Academy' started successfully!\n",
      "Unity Academy name: Academy\n",
      "        Number of Brains: 1\n",
      "        Number of External Brains : 1\n",
      "        Lesson number : 0\n",
      "        Reset Parameters :\n",
      "\t\tgoal_speed -> 1.0\n",
      "\t\tgoal_size -> 5.0\n",
      "Unity brain name: ReacherBrain\n",
      "        Number of Visual Observations (per agent): 0\n",
      "        Vector Observation space type: continuous\n",
      "        Vector Observation space size (per agent): 33\n",
      "        Number of stacked Vector Observation: 1\n",
      "        Vector Action space type: continuous\n",
      "        Vector Action space size (per agent): 4\n",
      "        Vector Action descriptions: , , , \n"
     ]
    }
   ],
   "source": [
    "env = UnityEnvironment(file_name='Reacher_Windows_x86_64_20/Reacher.exe')"
   ]
  },
  {
   "cell_type": "markdown",
   "metadata": {},
   "source": [
    "The Unity environment contains **_brains_** which are responsible for deciding the actions of their associated agents. Here we check for the first brain available, and set it as the default brain we will be controlling from Python."
   ]
  },
  {
   "cell_type": "code",
   "execution_count": 4,
   "metadata": {},
   "outputs": [],
   "source": [
    "# get the default brain\n",
    "brain_name = env.brain_names[0]\n",
    "brain = env.brains[brain_name]"
   ]
  },
  {
   "cell_type": "markdown",
   "metadata": {},
   "source": [
    "## 2. Overview of Environment\n",
    "\n",
    "In this environment, a double-jointed arm can move to target locations. A reward of `+0.1` is provided for each step that the agent's hand is in the goal location. Thus, the goal of the agent is to maintain its position at the target location for as many time steps as possible.\n",
    "\n",
    "The observation space consists of `33` variables corresponding to position, rotation, velocity, and angular velocities of the arm.  Each action is a vector with four numbers, corresponding to torque applicable to two joints.  Every entry in the action vector must be a number between `-1` and `1`.\n",
    "\n",
    "The code below provides information on the number of agents as well as the action and state space sizes."
   ]
  },
  {
   "cell_type": "code",
   "execution_count": 5,
   "metadata": {
    "scrolled": true
   },
   "outputs": [
    {
     "name": "stdout",
     "output_type": "stream",
     "text": [
      "Number of agents: 20\n",
      "Size of each action: 4\n",
      "There are 20 agents. Each observes a state with length: 33\n",
      "The state for the first agent looks like: [ 0.00000000e+00 -4.00000000e+00  0.00000000e+00  1.00000000e+00\n",
      " -0.00000000e+00 -0.00000000e+00 -4.37113883e-08  0.00000000e+00\n",
      "  0.00000000e+00  0.00000000e+00  0.00000000e+00  0.00000000e+00\n",
      "  0.00000000e+00  0.00000000e+00 -1.00000000e+01  0.00000000e+00\n",
      "  1.00000000e+00 -0.00000000e+00 -0.00000000e+00 -4.37113883e-08\n",
      "  0.00000000e+00  0.00000000e+00  0.00000000e+00  0.00000000e+00\n",
      "  0.00000000e+00  0.00000000e+00  5.75471878e+00 -1.00000000e+00\n",
      "  5.55726624e+00  0.00000000e+00  1.00000000e+00  0.00000000e+00\n",
      " -1.68164849e-01]\n"
     ]
    }
   ],
   "source": [
    "#\n",
    "# reset the environment\n",
    "env_info = env.reset(train_mode=True)[brain_name]\n",
    "\n",
    "#print(len(env_info.ps))\n",
    "\n",
    "# number of agents\n",
    "num_agents = len(env_info.agents)\n",
    "print('Number of agents:', num_agents)\n",
    "\n",
    "# size of each action\n",
    "action_size = brain.vector_action_space_size\n",
    "print('Size of each action:', action_size)\n",
    "\n",
    "# examine the state space \n",
    "states = env_info.vector_observations\n",
    "state_size = states.shape[1]\n",
    "print('There are {} agents. Each observes a state with length: {}'.format(states.shape[0], state_size))\n",
    "print('The state for the first agent looks like:', states[0])"
   ]
  },
  {
   "cell_type": "markdown",
   "metadata": {},
   "source": [
    "## 3. Overview of Solution\n",
    "\n",
    "### 3.1 Algorithm\n",
    "\n",
    "The actor critic algorithm selected to complete this task was Proximal Policy Optimization (PPO) with a clipped objective. This is an on-policy algorithm. In addition Generalized Advantage Estimation (GAE) has been imlemented. The implementation of the alogrithm has been based a PPO implementation by Phil Tabor (https://github.com/philtabor/Youtube-Code-Repository/tree/master/ReinforcementLearning/PolicyGradient/PPO/torch) but has been adapted for both a continuous environment as well as the use of multiple agents.\n",
    "\n",
    "\n",
    "### 3.2 Network Design\n",
    "\n",
    "Separate networks have been produced for both the actor and critic, with no shared elements. This architecture showed similar or better performance than some other alternatives with a shared input layer(s). An overview of the architecture is given below. The actor policy generates actions stochastically from a normal distribution.\n",
    "\n",
    "Actor\n",
    "\n",
    "    s -> Linear(s, 256) -> ReLU -> Linear(256, 256) -> ReLU -> Linear(256, a) -> Tanh -> Normal Distribution,\n",
    "        where s and a is the state and action space sizes respectively.\n",
    "\n",
    "Critic\n",
    "\n",
    "    s -> Linear(s, 256) -> ReLU -> Linear(256, 256) -> ReLU -> Linear(256, 1) -> V(s)\n",
    "\n",
    "The logic for the actor and critic networks is implemented as class `ActorNetwork` and `CriticNetwork` within `ppo.py`.\n",
    "\n",
    "### 3.3 Hyperparameters\n",
    "\n",
    "Agent hyperparameters are passed to the constructor class `Agent` in `ppo.py`. The hyperparameter values have been selected by a limited optimization process of varying the values and determining the best values for stability and performance.\n",
    "\n",
    "| parameter                | value      | description                                                                   |\n",
    "|--------------------------|------------|-------------------------------------------------------------------------------|\n",
    "| optimizer_learning_rate  | 1e-3       | Learning rate for Adam optimizer                                              |\n",
    "| gamma                    | 0.99       | Discount rate for future rewards                                              |\n",
    "| gae_lambda               | 0.9        | Smoothing parameter for GAE                                                   |\n",
    "| n_epochs                 | 4          | Number of optimization steps to perform after trajectory rollback             |\n",
    "| batch_size               | 256        | Number of N-agent experiences to collect for a single optimization step       |\n",
    "| policy_clip              | 0.2        | Clipping parameter for the policy loss function                               |\n",
    "| value_loss_weight        | 1.0        | Weight applied to value loss on total loss function                           |\n",
    "\n",
    "The training hyperparameters defined below are passed to the training function, `train_agent`, defined within this workbook. \n",
    "\n",
    "| parameter                     | value     | description                                           |\n",
    "|-------------------------------|-----------|-------------------------------------------------------|\n",
    "| n_episodes                    | 300       | Maximum number of training episodes                   |\n",
    "| max_t                         | 1000      | Trajectory length, maximum no. of timesteps           |\n",
    "| N                             | 1000      | Number of timesteps before performing a policy update |"
   ]
  },
  {
   "cell_type": "code",
   "execution_count": 6,
   "metadata": {},
   "outputs": [],
   "source": [
    "# Import PPO actor critic model\n",
    "from ppo import Agent\n",
    "\n",
    "#Set agent hyperparameters\n",
    "alpha = 1e-3\n",
    "gamma = 0.99\n",
    "gae_lambda = 0.9\n",
    "n_epochs=4\n",
    "batch_size=256\n",
    "policy_clip = 0.2\n",
    "value_loss_weight = 1.0\n",
    "\n",
    "# Initialize agent\n",
    "# Agent(n_actions, input_dims, gamma, alpha, gae_lambda, policy_clip, batch_size, n_epochs, value_loss_weight)\n",
    "agent = Agent(action_size, state_size, gamma, alpha, gae_lambda, policy_clip, batch_size, n_epochs, value_loss_weight)"
   ]
  },
  {
   "cell_type": "code",
   "execution_count": 7,
   "metadata": {},
   "outputs": [],
   "source": [
    "from collections import deque\n",
    "import torch\n",
    "import time\n",
    "\n",
    "\n",
    "def train_agent_(env, agent, n_episodes=300, max_t=1000, \n",
    "    display_every=10, solved_score=30, N=1):\n",
    "    \n",
    "    st_time = time.time()\n",
    "    \n",
    "    scores = []\n",
    "    scores_window = deque(maxlen=100)\n",
    "    \n",
    "    device = torch.device('cuda:0' if torch.cuda.is_available() else 'cpu')\n",
    "    \n",
    "    n_steps = 0\n",
    "    \n",
    "    for i_episode in range(1, n_episodes + 1):    \n",
    "        env_info = env.reset(train_mode=True)[brain_name]\n",
    "        \n",
    "        n_actors = len(env_info.vector_observations)\n",
    "        score = np.zeros(n_actors)\n",
    "        episode_length_list = []\n",
    "        \n",
    "        \n",
    "        for t in range(1, max_t+1):\n",
    "            states = env_info.vector_observations\n",
    "\n",
    "            actions, probs, vals = agent.choose_action(states)\n",
    "\n",
    "            env_info = env.step(actions)[brain_name]\n",
    "            \n",
    "            next_states = env_info.vector_observations\n",
    "            \n",
    "            rewards = np.array(env_info.rewards)       \n",
    "            \n",
    "            dones = env_info.local_done\n",
    "            \n",
    "            n_steps += 1\n",
    "            \n",
    "            score += np.array(rewards)\n",
    "            score = np.where(dones, 0, score)\n",
    "\n",
    "            # Collect experience at timestep\n",
    "            agent.remember(states, actions, probs, vals, rewards, dones)\n",
    "            \n",
    "            # If N timesteps have elapsed, use collected experiences to train agent\n",
    "            if n_steps % N == 0:\n",
    "                agent.learn()\n",
    "            \n",
    "            states = next_states\n",
    "\n",
    "        mean_score = score.mean()\n",
    "        scores_window.append(mean_score)       # save most recent score\n",
    "        scores.append(mean_score)              # save most recent score\n",
    "        \n",
    "        print('\\rEpisode {}\\tAverage score: {:.2f}'.format(\n",
    "            i_episode, np.mean(scores_window)), end=\"\")\n",
    "        \n",
    "        if i_episode % display_every == 0:\n",
    "            print('\\rEpisode {}\\tAverage score: {:.2f}'.format(\n",
    "                i_episode, np.mean(scores_window)))\n",
    "            \n",
    "        if np.mean(scores_window) >= solved_score:\n",
    "            print('\\nEnvironment solved in {:d} episodes!\\tAverage score: {:.2f}'.format(\n",
    "                np.maximum(i_episode, 0), np.mean(scores_window)))\n",
    "\n",
    "            agent.save_models\n",
    "                \n",
    "            break\n",
    "    \n",
    "    print('\\nRun Time: {:.2f}s'.format(time.time() - st_time))\n",
    "    \n",
    "    return scores"
   ]
  },
  {
   "cell_type": "code",
   "execution_count": 8,
   "metadata": {},
   "outputs": [
    {
     "name": "stdout",
     "output_type": "stream",
     "text": [
      "Episode 10\tAverage score: 0.59\n",
      "Episode 20\tAverage score: 0.60\n",
      "Episode 30\tAverage score: 0.45\n",
      "Episode 40\tAverage score: 0.36\n",
      "Episode 50\tAverage score: 0.32\n",
      "Episode 60\tAverage score: 0.30\n",
      "Episode 70\tAverage score: 0.33\n",
      "Episode 80\tAverage score: 0.38\n",
      "Episode 90\tAverage score: 0.45\n",
      "Episode 100\tAverage score: 0.56\n",
      "Episode 110\tAverage score: 0.77\n",
      "Episode 120\tAverage score: 1.08\n",
      "Episode 130\tAverage score: 1.53\n",
      "Episode 140\tAverage score: 2.34\n",
      "Episode 150\tAverage score: 3.65\n",
      "Episode 160\tAverage score: 5.27\n",
      "Episode 170\tAverage score: 7.16\n",
      "Episode 180\tAverage score: 9.33\n",
      "Episode 190\tAverage score: 11.59\n",
      "Episode 200\tAverage score: 13.96\n",
      "Episode 210\tAverage score: 16.39\n",
      "Episode 220\tAverage score: 18.87\n",
      "Episode 230\tAverage score: 21.63\n",
      "Episode 240\tAverage score: 24.30\n",
      "Episode 250\tAverage score: 26.48\n",
      "Episode 260\tAverage score: 28.55\n",
      "Episode 268\tAverage score: 30.07\n",
      "Environment solved in 268 episodes!\tAverage score: 30.07\n",
      "\n",
      "Run Time: 831.47s\n"
     ]
    }
   ],
   "source": [
    "scores = train_agent_(env, agent, n_episodes=300, solved_score = 30, N=1000)"
   ]
  },
  {
   "cell_type": "code",
   "execution_count": 9,
   "metadata": {},
   "outputs": [
    {
     "data": {
      "image/png": "[encoded data removed]",
      "text/plain": [
       "<Figure size 432x288 with 1 Axes>"
      ]
     },
     "metadata": {
      "needs_background": "light"
     },
     "output_type": "display_data"
    }
   ],
   "source": [
    "# plot scores\n",
    "fig = plt.figure()\n",
    "ax = fig.add_subplot(111)\n",
    "plt.plot(np.arange(len(scores)), scores)\n",
    "plt.ylabel('Score')\n",
    "plt.xlabel('Episode No.')\n",
    "plt.show()"
   ]
  },
  {
   "cell_type": "markdown",
   "metadata": {},
   "source": [
    "Watch the trained agent in action."
   ]
  },
  {
   "cell_type": "code",
   "execution_count": 12,
   "metadata": {},
   "outputs": [
    {
     "name": "stdout",
     "output_type": "stream",
     "text": [
      "Total score this episode: 38.78149913316592\n"
     ]
    }
   ],
   "source": [
    "# load the checkpoint file\n",
    "agent.load_models\n",
    "\n",
    "# Run through once with loaded model\n",
    "env_info = env.reset(train_mode=False)[brain_name]     \n",
    "states = env_info.vector_observations                  \n",
    "scores = np.zeros(num_agents)                          \n",
    "while True:\n",
    "    actions, _, _ = agent.choose_action(states)                       \n",
    "    env_info = env.step(actions)[brain_name]           \n",
    "    next_states = env_info.vector_observations         \n",
    "    rewards = env_info.rewards                         \n",
    "    dones = env_info.local_done                        \n",
    "    scores += env_info.rewards                         \n",
    "    states = next_states                               \n",
    "    if np.any(dones):                                  \n",
    "        break\n",
    "print('Total score this episode: {:.2f}'.format(scores.mean()))"
   ]
  },
  {
   "cell_type": "code",
   "execution_count": 13,
   "metadata": {},
   "outputs": [],
   "source": [
    "env.close()"
   ]
  },
  {
   "cell_type": "markdown",
   "metadata": {},
   "source": [
    "## 4. Results & Conclusions & Future Work\n",
    "\n",
    "The selected algorithm was successful in solving the environment within the requirements with a fast timeframe (~10 mins on high end consumer PC with a RTX2080 Ti). The PPO algorithm demonstrated a high level of robustness whilst varying the hyperparameters and the network architectures, with the documented hyperparameters giving the best performance.\n",
    "\n",
    "Some ideas for future work include:\n",
    "- Adapting the algorithm to other environments to gauge performance.\n",
    "- Performance comparison to other algorithms, for example the DDPG benchmark solved in approximately half the number of timesteps.\n",
    "- Review of further improvements to PPO algorithm to improve performance."
   ]
  }
 ],
 "metadata": {
  "kernelspec": {
   "display_name": "Python 3",
   "language": "python",
   "name": "python3"
  },
  "language_info": {
   "codemirror_mode": {
    "name": "ipython",
    "version": 3
   },
   "file_extension": ".py",
   "mimetype": "text/x-python",
   "name": "python",
   "nbconvert_exporter": "python",
   "pygments_lexer": "ipython3",
   "version": "3.6.10"
  }
 },
 "nbformat": 4,
 "nbformat_minor": 2
}
